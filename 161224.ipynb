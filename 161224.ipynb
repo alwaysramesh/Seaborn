{
 "cells": [
  {
   "cell_type": "code",
   "execution_count": 3,
   "id": "b21bd925-dffd-4215-8901-4bbeff9b40c6",
   "metadata": {},
   "outputs": [],
   "source": [
    "#REGEX libraries"
   ]
  },
  {
   "cell_type": "code",
   "execution_count": 2,
   "id": "11ea047e-5fb5-4595-a1e0-053564df987f",
   "metadata": {},
   "outputs": [],
   "source": [
    "import re"
   ]
  },
  {
   "cell_type": "markdown",
   "id": "60b7911c-eb7c-4685-9849-ba3b0c1b1fed",
   "metadata": {},
   "source": [
    "Search() function"
   ]
  },
  {
   "cell_type": "code",
   "execution_count": 8,
   "id": "f8da150d-767b-4a07-8dbd-74d57096f025",
   "metadata": {},
   "outputs": [],
   "source": [
    "s=\"a cse faculty amit for toc\"\n",
    "match=re.search('cse',s)\n"
   ]
  },
  {
   "cell_type": "code",
   "execution_count": 9,
   "id": "0a3adae6-e013-4d24-a8e0-49b47359ab48",
   "metadata": {},
   "outputs": [
    {
     "name": "stdout",
     "output_type": "stream",
     "text": [
      "2\n"
     ]
    }
   ],
   "source": [
    "print(match.start())   "
   ]
  },
  {
   "cell_type": "code",
   "execution_count": 10,
   "id": "2004de6f-18ff-4bbd-962f-e58e2e50f817",
   "metadata": {},
   "outputs": [
    {
     "name": "stdout",
     "output_type": "stream",
     "text": [
      "5\n"
     ]
    }
   ],
   "source": [
    "print(match.end())"
   ]
  },
  {
   "cell_type": "code",
   "execution_count": 11,
   "id": "78884eac-a3b0-4daa-93cf-b79570cd4c8e",
   "metadata": {},
   "outputs": [
    {
     "name": "stdout",
     "output_type": "stream",
     "text": [
      "14\n"
     ]
    }
   ],
   "source": [
    "match1=re.search('amit',s)\n",
    "print(match1.start())"
   ]
  },
  {
   "cell_type": "code",
   "execution_count": 12,
   "id": "1f70a8d9-b099-4850-8ae3-ebcc96a5b380",
   "metadata": {},
   "outputs": [
    {
     "name": "stdout",
     "output_type": "stream",
     "text": [
      "match\n"
     ]
    }
   ],
   "source": [
    "s=\"a cse faculty amit for toc\"\n",
    "match=re.search('cse',s)\n",
    "if match:\n",
    "    print(\"match\")\n",
    "else:\n",
    "    print(\"not match\")"
   ]
  },
  {
   "cell_type": "code",
   "execution_count": null,
   "id": "544abb60-d0bd-4586-af90-edf71f78941b",
   "metadata": {},
   "outputs": [],
   "source": []
  },
  {
   "cell_type": "code",
   "execution_count": 13,
   "id": "191ed99f-b3fc-420b-9728-a72abced9ad4",
   "metadata": {},
   "outputs": [
    {
     "name": "stdout",
     "output_type": "stream",
     "text": [
      "not match\n"
     ]
    }
   ],
   "source": [
    "s=\"a cse faculty amit for toc\"\n",
    "match=re.search('csee',s)\n",
    "if match:\n",
    "    print(\"match\")\n",
    "else:\n",
    "    print(\"not match\")"
   ]
  },
  {
   "cell_type": "code",
   "execution_count": 14,
   "id": "7e2ad41b-8a28-4401-95c0-30dc474adf72",
   "metadata": {},
   "outputs": [],
   "source": [
    "#findall()"
   ]
  },
  {
   "cell_type": "code",
   "execution_count": 18,
   "id": "70524043-495d-4415-90f8-3fa23e6b56af",
   "metadata": {},
   "outputs": [
    {
     "name": "stdout",
     "output_type": "stream",
     "text": [
      "1\n"
     ]
    },
    {
     "name": "stderr",
     "output_type": "stream",
     "text": [
      "<>:2: SyntaxWarning: invalid escape sequence '\\s'\n",
      "<>:2: SyntaxWarning: invalid escape sequence '\\s'\n",
      "C:\\Users\\ALWAYSRAMESH\\AppData\\Local\\Temp\\ipykernel_30404\\1914072103.py:2: SyntaxWarning: invalid escape sequence '\\s'\n",
      "  match=re.search('\\s',s)\n"
     ]
    }
   ],
   "source": [
    "s=\"a cse faculty amit for toc\"\n",
    "match=re.search('\\s',s)\n",
    "print(match.start())"
   ]
  },
  {
   "cell_type": "code",
   "execution_count": 19,
   "id": "7a48b18a-1745-496f-97e4-58b0cb925dc8",
   "metadata": {},
   "outputs": [
    {
     "name": "stdout",
     "output_type": "stream",
     "text": [
      "6\n"
     ]
    },
    {
     "name": "stderr",
     "output_type": "stream",
     "text": [
      "<>:2: SyntaxWarning: invalid escape sequence '\\s'\n",
      "<>:2: SyntaxWarning: invalid escape sequence '\\s'\n",
      "C:\\Users\\ALWAYSRAMESH\\AppData\\Local\\Temp\\ipykernel_30404\\3822216144.py:2: SyntaxWarning: invalid escape sequence '\\s'\n",
      "  match=re.search('\\s',s)\n"
     ]
    }
   ],
   "source": [
    "s=\"ramesh cse faculty amit for toc\"\n",
    "match=re.search('\\s',s)\n",
    "print(match.start())"
   ]
  },
  {
   "cell_type": "code",
   "execution_count": 24,
   "id": "912f81bb-567d-4520-9654-e1626b738b99",
   "metadata": {},
   "outputs": [
    {
     "name": "stdout",
     "output_type": "stream",
     "text": [
      "['am']\n"
     ]
    }
   ],
   "source": [
    "s=\"a cse faculty amit for toc\"\n",
    "match=re.findall('am',s)\n",
    "print(match)"
   ]
  },
  {
   "cell_type": "code",
   "execution_count": 25,
   "id": "febe9c69-b766-4dd6-8869-97c347699f27",
   "metadata": {},
   "outputs": [
    {
     "name": "stdout",
     "output_type": "stream",
     "text": [
      "['c', 'c', 'c']\n"
     ]
    }
   ],
   "source": [
    "s=\"a cse faculty amit for toc\"\n",
    "match=re.findall('c',s)\n",
    "print(match)"
   ]
  },
  {
   "cell_type": "code",
   "execution_count": 29,
   "id": "48671cc5-e88c-4357-9662-2dbd6ce4dd5b",
   "metadata": {},
   "outputs": [
    {
     "name": "stdout",
     "output_type": "stream",
     "text": [
      "['a', 'cse', 'faculty', 'amit', 'for', 'toc']\n"
     ]
    },
    {
     "name": "stderr",
     "output_type": "stream",
     "text": [
      "<>:2: SyntaxWarning: invalid escape sequence '\\s'\n",
      "<>:2: SyntaxWarning: invalid escape sequence '\\s'\n",
      "C:\\Users\\ALWAYSRAMESH\\AppData\\Local\\Temp\\ipykernel_30404\\421290943.py:2: SyntaxWarning: invalid escape sequence '\\s'\n",
      "  match=re.split('\\s',s)\n"
     ]
    }
   ],
   "source": [
    "s=\"a cse faculty amit for toc\"\n",
    "match=re.split('\\s',s)\n",
    "print(match)"
   ]
  },
  {
   "cell_type": "code",
   "execution_count": 30,
   "id": "2f3d86f7-c558-427e-937f-b571a645c6ed",
   "metadata": {},
   "outputs": [
    {
     "name": "stdout",
     "output_type": "stream",
     "text": [
      "['a', 'cse', 'faculty', 'amit', 'for', 'toc']\n",
      "6\n"
     ]
    },
    {
     "name": "stderr",
     "output_type": "stream",
     "text": [
      "<>:2: SyntaxWarning: invalid escape sequence '\\s'\n",
      "<>:2: SyntaxWarning: invalid escape sequence '\\s'\n",
      "C:\\Users\\ALWAYSRAMESH\\AppData\\Local\\Temp\\ipykernel_30404\\3095725668.py:2: SyntaxWarning: invalid escape sequence '\\s'\n",
      "  match=re.split('\\s',s)\n"
     ]
    }
   ],
   "source": [
    "s=\"a cse faculty amit for toc\"\n",
    "match=re.split('\\s',s)\n",
    "print(match)\n",
    "print(len(match))"
   ]
  },
  {
   "cell_type": "code",
   "execution_count": 31,
   "id": "257fa27c-8735-4e7b-8001-6cc08a6356a2",
   "metadata": {},
   "outputs": [
    {
     "name": "stdout",
     "output_type": "stream",
     "text": [
      "['a', 'cse', 'faculty', 'amit', 'for toc']\n",
      "5\n"
     ]
    },
    {
     "name": "stderr",
     "output_type": "stream",
     "text": [
      "<>:2: SyntaxWarning: invalid escape sequence '\\s'\n",
      "<>:2: SyntaxWarning: invalid escape sequence '\\s'\n",
      "C:\\Users\\ALWAYSRAMESH\\AppData\\Local\\Temp\\ipykernel_30404\\660071072.py:2: SyntaxWarning: invalid escape sequence '\\s'\n",
      "  match=re.split('\\s',s,4)\n"
     ]
    }
   ],
   "source": [
    "s=\"a cse faculty amit for toc\"\n",
    "match=re.split('\\s',s,4)\n",
    "print(match)\n",
    "print(len(match))"
   ]
  },
  {
   "cell_type": "code",
   "execution_count": 34,
   "id": "b756ab38-9e64-4d54-85d0-431702742ba8",
   "metadata": {},
   "outputs": [
    {
     "name": "stdout",
     "output_type": "stream",
     "text": [
      "a4cse4faculty4amit4for4toc\n",
      "26\n"
     ]
    },
    {
     "name": "stderr",
     "output_type": "stream",
     "text": [
      "<>:2: SyntaxWarning: invalid escape sequence '\\s'\n",
      "<>:2: SyntaxWarning: invalid escape sequence '\\s'\n",
      "C:\\Users\\ALWAYSRAMESH\\AppData\\Local\\Temp\\ipykernel_30404\\765526963.py:2: SyntaxWarning: invalid escape sequence '\\s'\n",
      "  match=re.sub('\\s',\"4\",s)\n"
     ]
    }
   ],
   "source": [
    "s=\"a cse faculty amit for toc\"\n",
    "match=re.sub('\\s',\"4\",s)\n",
    "print(match)\n",
    "print(len(match))"
   ]
  },
  {
   "cell_type": "code",
   "execution_count": 35,
   "id": "6fef863e-d666-4bce-b7b3-4b6605fe7987",
   "metadata": {},
   "outputs": [
    {
     "name": "stdout",
     "output_type": "stream",
     "text": [
      "a@cse@faculty@amit@for@toc\n",
      "26\n"
     ]
    },
    {
     "name": "stderr",
     "output_type": "stream",
     "text": [
      "<>:2: SyntaxWarning: invalid escape sequence '\\s'\n",
      "<>:2: SyntaxWarning: invalid escape sequence '\\s'\n",
      "C:\\Users\\ALWAYSRAMESH\\AppData\\Local\\Temp\\ipykernel_30404\\937218192.py:2: SyntaxWarning: invalid escape sequence '\\s'\n",
      "  match=re.sub('\\s',\"@\",s)\n"
     ]
    }
   ],
   "source": [
    "s=\"a cse faculty amit for toc\"\n",
    "match=re.sub('\\s',\"@\",s)\n",
    "print(match)\n",
    "print(len(match))"
   ]
  },
  {
   "cell_type": "code",
   "execution_count": 41,
   "id": "468f8e57-904d-417d-b8d2-c8b7a76d8b0e",
   "metadata": {},
   "outputs": [
    {
     "name": "stdout",
     "output_type": "stream",
     "text": [
      "a@cse@faculty amit for toc\n",
      "26\n"
     ]
    },
    {
     "name": "stderr",
     "output_type": "stream",
     "text": [
      "<>:2: SyntaxWarning: invalid escape sequence '\\s'\n",
      "<>:2: SyntaxWarning: invalid escape sequence '\\s'\n",
      "C:\\Users\\ALWAYSRAMESH\\AppData\\Local\\Temp\\ipykernel_30404\\1452126973.py:2: SyntaxWarning: invalid escape sequence '\\s'\n",
      "  match=re.sub('\\s',\"@\",s,2)\n"
     ]
    }
   ],
   "source": [
    "s=\"a cse faculty amit for toc\"\n",
    "match=re.sub('\\s',\"@\",s,2)\n",
    "print(match)\n",
    "print(len(match))"
   ]
  },
  {
   "cell_type": "code",
   "execution_count": null,
   "id": "bdbcd743-acdd-431b-9258-20f4bb01dfca",
   "metadata": {},
   "outputs": [],
   "source": []
  }
 ],
 "metadata": {
  "kernelspec": {
   "display_name": "Python 3 (ipykernel)",
   "language": "python",
   "name": "python3"
  },
  "language_info": {
   "codemirror_mode": {
    "name": "ipython",
    "version": 3
   },
   "file_extension": ".py",
   "mimetype": "text/x-python",
   "name": "python",
   "nbconvert_exporter": "python",
   "pygments_lexer": "ipython3",
   "version": "3.12.4"
  }
 },
 "nbformat": 4,
 "nbformat_minor": 5
}
