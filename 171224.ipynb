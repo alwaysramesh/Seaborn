{
 "cells": [
  {
   "cell_type": "code",
   "execution_count": 1,
   "id": "6bd62081-7a9b-4b07-80cc-1a6a2167e669",
   "metadata": {},
   "outputs": [],
   "source": [
    "import re"
   ]
  },
  {
   "cell_type": "code",
   "execution_count": 12,
   "id": "97020c1e-f153-4511-8b03-bca28392ae56",
   "metadata": {},
   "outputs": [
    {
     "name": "stdout",
     "output_type": "stream",
     "text": [
      "<re.Match object; span=(0, 1), match='a'>\n"
     ]
    }
   ],
   "source": [
    "s='amit.amits'\n",
    "match=re.search('.',s)\n",
    "print(match)"
   ]
  },
  {
   "cell_type": "code",
   "execution_count": 16,
   "id": "37b61b41-119f-4c14-b158-1a0030108c4c",
   "metadata": {},
   "outputs": [
    {
     "name": "stdout",
     "output_type": "stream",
     "text": [
      "<re.Match object; span=(4, 5), match='.'>\n"
     ]
    },
    {
     "name": "stderr",
     "output_type": "stream",
     "text": [
      "<>:2: SyntaxWarning: invalid escape sequence '\\.'\n",
      "<>:2: SyntaxWarning: invalid escape sequence '\\.'\n",
      "C:\\Users\\ALWAYSRAMESH\\AppData\\Local\\Temp\\ipykernel_30348\\902131486.py:2: SyntaxWarning: invalid escape sequence '\\.'\n",
      "  match=re.search('\\.',s)\n"
     ]
    }
   ],
   "source": [
    "s='amit.amits'\n",
    "match=re.search('\\.',s)\n",
    "print(match)"
   ]
  },
  {
   "cell_type": "code",
   "execution_count": 15,
   "id": "19e16021-88a3-4b9f-9eb8-087976c64468",
   "metadata": {},
   "outputs": [
    {
     "name": "stdout",
     "output_type": "stream",
     "text": [
      "<re.Match object; span=(0, 1), match='a'>\n"
     ]
    }
   ],
   "source": [
    "s='amitSir.amits.abc'\n",
    "match=re.search('.',s)\n",
    "print(match)"
   ]
  },
  {
   "cell_type": "code",
   "execution_count": 21,
   "id": "02cd62af-0b12-4263-9e35-b7319cbfa1f4",
   "metadata": {},
   "outputs": [
    {
     "name": "stdout",
     "output_type": "stream",
     "text": [
      "['e', 'c', 'b', 'f', 'e', 'e', 'a', 'a']\n"
     ]
    },
    {
     "data": {
      "text/plain": [
       "'t, h, e → Here e matches [a-g].\\nq, u, i, c, k → c matches.\\nb, r, o, w, n → b matches.\\nf, o, x → f matches.\\nj, u, m, p, s → None.\\no, v, e, r → e matches.\\nt, h, e → e matches.\\nv, i, s, h, a, k, h, a → a and a match.'"
      ]
     },
     "execution_count": 21,
     "metadata": {},
     "output_type": "execute_result"
    }
   ],
   "source": [
    "s='the quick brown fox jumps over the vishakha'\n",
    "p=\"[a-g]\"\n",
    "match=re.findall(p,s)\n",
    "print(match)\n",
    "'''t, h, e → Here e matches [a-g].\n",
    "q, u, i, c, k → c matches.\n",
    "b, r, o, w, n → b matches.\n",
    "f, o, x → f matches.\n",
    "j, u, m, p, s → None.\n",
    "o, v, e, r → e matches.\n",
    "t, h, e → e matches.\n",
    "v, i, s, h, a, k, h, a → a and a match.'''"
   ]
  },
  {
   "cell_type": "code",
   "execution_count": 30,
   "id": "1f18d570-7618-4803-9476-7d6cd7dc1c1e",
   "metadata": {},
   "outputs": [
    {
     "name": "stdout",
     "output_type": "stream",
     "text": [
      "Not matched: the quick brown fox\n",
      "Matched:The lazy dog\n",
      "Not matched: A quick brown fox\n"
     ]
    }
   ],
   "source": [
    "regex='^The'\n",
    "strings=['the quick brown fox', 'The lazy dog','A quick brown fox']\n",
    "for string in strings:\n",
    "    if re.match(regex,string):\n",
    "        print(f'Matched:{string}')\n",
    "    else:\n",
    "        print(f'Not matched: {string}')\n",
    "#f=formated string"
   ]
  },
  {
   "cell_type": "code",
   "execution_count": 34,
   "id": "ae015c62-206c-41dd-a5e8-ef0d23c0e931",
   "metadata": {},
   "outputs": [
    {
     "name": "stdout",
     "output_type": "stream",
     "text": [
      "Match found\n"
     ]
    }
   ],
   "source": [
    "string=\"Hello World!\"\n",
    "pattern=\"World!$\"\n",
    "match=re.search(pattern,string)\n",
    "if match:\n",
    "    print(\"Match found\")\n",
    "else:\n",
    "    print(\"Match not found\")"
   ]
  },
  {
   "cell_type": "code",
   "execution_count": 37,
   "id": "7e4cbf70-6d06-44d7-90dd-ecc09092b90d",
   "metadata": {},
   "outputs": [
    {
     "name": "stdout",
     "output_type": "stream",
     "text": [
      "Match not found\n"
     ]
    }
   ],
   "source": [
    "string=\"Hello World! ramesh\"\n",
    "pattern=\"World!$\"\n",
    "match=re.search(pattern,string)\n",
    "if match:\n",
    "    print(\"Match found\")\n",
    "else:\n",
    "    print(\"Match not found\")"
   ]
  },
  {
   "cell_type": "code",
   "execution_count": 47,
   "id": "98a24879-d5af-475e-9894-07f86b4107e8",
   "metadata": {},
   "outputs": [],
   "source": [
    "txt=\"hello planet\"\n",
    "#Search for a sequence that starts with \"he\", followed by two(any) character, and an \"o\""
   ]
  },
  {
   "cell_type": "code",
   "execution_count": 42,
   "id": "643553e9-0632-4dad-8f54-a4b22e851fe0",
   "metadata": {},
   "outputs": [
    {
     "name": "stdout",
     "output_type": "stream",
     "text": [
      "['hello']\n"
     ]
    }
   ],
   "source": [
    "x=re.findall(\"he..o\",txt)\n",
    "print(x)"
   ]
  },
  {
   "cell_type": "code",
   "execution_count": 43,
   "id": "2f87fd1a-42c7-420a-9269-f2a14ca1c901",
   "metadata": {},
   "outputs": [
    {
     "name": "stdout",
     "output_type": "stream",
     "text": [
      "['planet']\n"
     ]
    }
   ],
   "source": [
    "x=re.findall(\"pl...t\",txt)\n",
    "print(x)"
   ]
  },
  {
   "cell_type": "code",
   "execution_count": 46,
   "id": "1ee6d321-bfac-4ef5-ab83-903d09734c14",
   "metadata": {},
   "outputs": [
    {
     "name": "stdout",
     "output_type": "stream",
     "text": [
      "['hello']\n"
     ]
    }
   ],
   "source": [
    "x=re.findall(\"he.*o\",txt)\n",
    "print(x)"
   ]
  },
  {
   "cell_type": "code",
   "execution_count": 50,
   "id": "7191302c-13aa-489a-a41c-e969f4f2e236",
   "metadata": {},
   "outputs": [
    {
     "name": "stdout",
     "output_type": "stream",
     "text": [
      "['planet']\n"
     ]
    }
   ],
   "source": [
    "x=re.findall(\"pl.+t\",txt)\n",
    "print(x)"
   ]
  },
  {
   "cell_type": "code",
   "execution_count": 53,
   "id": "906af547-42c9-40b5-9eab-aa8f3136b496",
   "metadata": {},
   "outputs": [
    {
     "name": "stdout",
     "output_type": "stream",
     "text": [
      "['planet']\n"
     ]
    }
   ],
   "source": [
    "x=re.findall(\"pl...?t\",txt)\n",
    "print(x)"
   ]
  },
  {
   "cell_type": "code",
   "execution_count": 56,
   "id": "e8773e13-1b6d-4161-9e75-65140d4681ed",
   "metadata": {},
   "outputs": [
    {
     "name": "stdout",
     "output_type": "stream",
     "text": [
      "['hello']\n"
     ]
    }
   ],
   "source": [
    "x=re.findall(\"he..?o\",txt)\n",
    "print(x)"
   ]
  },
  {
   "cell_type": "code",
   "execution_count": 57,
   "id": "31519640-2a84-4a55-bbaa-b0a4e4ba798c",
   "metadata": {},
   "outputs": [
    {
     "name": "stdout",
     "output_type": "stream",
     "text": [
      "['hello']\n"
     ]
    }
   ],
   "source": [
    "x=re.findall(\"he.{2}o\",txt)\n",
    "print(x)"
   ]
  },
  {
   "cell_type": "code",
   "execution_count": 59,
   "id": "b83c27fd-106d-41ac-b498-0f5f4fb6873a",
   "metadata": {},
   "outputs": [
    {
     "name": "stdout",
     "output_type": "stream",
     "text": [
      "['planet']\n"
     ]
    }
   ],
   "source": [
    "x=re.findall(\"pl..{2}t\",txt)\n",
    "print(x)"
   ]
  },
  {
   "cell_type": "code",
   "execution_count": 64,
   "id": "193c699a-8a52-4e88-88f0-0ee0b4d71600",
   "metadata": {},
   "outputs": [
    {
     "name": "stdout",
     "output_type": "stream",
     "text": [
      "['falls']\n",
      "Yes,there is at least one match!\n"
     ]
    }
   ],
   "source": [
    "txt=\"The rain in Spain falls mainly in the plain!\"\n",
    "x=re.findall(\"falls|stays\",txt)\n",
    "print(x)\n",
    "\n",
    "if x:\n",
    "    print(\"Yes,there is at least one match!\")\n",
    "else:\n",
    "    print(\"No match\")"
   ]
  },
  {
   "cell_type": "code",
   "execution_count": null,
   "id": "0c9bac65-4bfb-4a1f-b28c-f7a5f181f3e3",
   "metadata": {},
   "outputs": [],
   "source": []
  }
 ],
 "metadata": {
  "kernelspec": {
   "display_name": "Python 3 (ipykernel)",
   "language": "python",
   "name": "python3"
  },
  "language_info": {
   "codemirror_mode": {
    "name": "ipython",
    "version": 3
   },
   "file_extension": ".py",
   "mimetype": "text/x-python",
   "name": "python",
   "nbconvert_exporter": "python",
   "pygments_lexer": "ipython3",
   "version": "3.12.4"
  }
 },
 "nbformat": 4,
 "nbformat_minor": 5
}
